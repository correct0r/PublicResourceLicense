{
  "cells": [
    {
      "cell_type": "markdown",
      "metadata": {
        "id": "view-in-github",
        "colab_type": "text"
      },
      "source": [
        "<a href=\"https://colab.research.google.com/github/correct0r/PublicResourceLicense/blob/main/Collatz_Conclusion.ipynb\" target=\"_parent\"><img src=\"https://colab.research.google.com/assets/colab-badge.svg\" alt=\"Open In Colab\"/></a>"
      ]
    },
    {
      "cell_type": "markdown",
      "source": [
        ""
      ],
      "metadata": {
        "id": "bkQ9SBT88wSC"
      }
    },
    {
      "cell_type": "code",
      "execution_count": 13,
      "metadata": {
        "colab": {
          "base_uri": "https://localhost:8080/",
          "height": 248
        },
        "id": "Ag-TmuF6hZf9",
        "outputId": "53b168e4-38f6-4d17-ab6c-2c69c67c77ae"
      },
      "outputs": [
        {
          "output_type": "error",
          "ename": "KeyboardInterrupt",
          "evalue": "ignored",
          "traceback": [
            "\u001b[0;31m---------------------------------------------------------------------------\u001b[0m",
            "\u001b[0;31mKeyboardInterrupt\u001b[0m                         Traceback (most recent call last)",
            "\u001b[0;32m<ipython-input-13-c3ec9a10503f>\u001b[0m in \u001b[0;36m<module>\u001b[0;34m()\u001b[0m\n\u001b[1;32m      6\u001b[0m \u001b[0;32mimport\u001b[0m \u001b[0mtime\u001b[0m\u001b[0;34m\u001b[0m\u001b[0;34m\u001b[0m\u001b[0m\n\u001b[1;32m      7\u001b[0m \u001b[0mb\u001b[0m \u001b[0;34m=\u001b[0m \u001b[0;36m60000000000\u001b[0m\u001b[0;34m\u001b[0m\u001b[0;34m\u001b[0m\u001b[0m\n\u001b[0;32m----> 8\u001b[0;31m \u001b[0ma\u001b[0m \u001b[0;34m=\u001b[0m \u001b[0;36m2\u001b[0m\u001b[0;34m**\u001b[0m\u001b[0mb\u001b[0m\u001b[0;34m\u001b[0m\u001b[0;34m\u001b[0m\u001b[0m\n\u001b[0m\u001b[1;32m      9\u001b[0m \u001b[0;32mwhile\u001b[0m \u001b[0ma\u001b[0m \u001b[0;34m!=\u001b[0m \u001b[0;36m1\u001b[0m \u001b[0;32mor\u001b[0m \u001b[0ma\u001b[0m \u001b[0;34m%\u001b[0m \u001b[0;36m2\u001b[0m \u001b[0;34m==\u001b[0m \u001b[0;36m0\u001b[0m\u001b[0;34m:\u001b[0m\u001b[0;34m\u001b[0m\u001b[0;34m\u001b[0m\u001b[0m\n\u001b[1;32m     10\u001b[0m   \u001b[0mtime\u001b[0m\u001b[0;34m.\u001b[0m\u001b[0msleep\u001b[0m\u001b[0;34m(\u001b[0m\u001b[0;36m.000117\u001b[0m\u001b[0;34m)\u001b[0m\u001b[0;34m\u001b[0m\u001b[0;34m\u001b[0m\u001b[0m\n",
            "\u001b[0;31mKeyboardInterrupt\u001b[0m: "
          ]
        }
      ],
      "source": [
        "# ℗ PUBLIC RESOURCE LICENSE\n",
        "# Andrew Lehti: Collatz Conclusion: Proof all numbers fall to one.\n",
        "# This is exponential so if your computer is almost decent, do not do anything over 10000000.\n",
        "# To change the exponent, change b = 600;  b = ???; this number is what 2 will be raised to.\n",
        "# uncomment the time.sleep commands to view the number clearer one by one as it goes down.... IF you do not want the output flushed; replace '\\r', in line 20 with '\\n',\n",
        "# if you do not want this to stop on an odd number, then on line 12; comment or out like such — #or a % 2 == 0:\n",
        "# if you want to just try any number, then replace 2**b with any number; ex: a = 165464161441147165169\n",
        "import sys\n",
        "import time\n",
        "b = 600\n",
        "a = 2**b\n",
        "while a != 1 or a % 2 == 0:\n",
        "  #time.sleep(.00117)\n",
        "  if a % 2 == 0:\n",
        "        #time.sleep(.00168)\n",
        "        a = a // 2\n",
        "        #time.sleep(.00125)\n",
        "        sys.stdout.flush()\n",
        "        #time.sleep(.00146)\n",
        "        print('\\r',(a), end='', flush=True)\n",
        "        #time.sleep(.00125)\n",
        "  else:\n",
        "        a = (a * 3) + 1\n",
        "        #time.sleep(.00185)\n",
        "#  sys.stdout.flush()\n",
        "#  print(\"\\r\", (a), end='', flush=True)"
      ]
    },
    {
      "cell_type": "code",
      "source": [
        ""
      ],
      "metadata": {
        "id": "AIQO1XYg8llo"
      },
      "execution_count": null,
      "outputs": []
    }
  ],
  "metadata": {
    "colab": {
      "collapsed_sections": [],
      "name": "Collatz Conclusion.ipynb",
      "provenance": [],
      "authorship_tag": "ABX9TyOoexPiaTGZcgspRIYvdFUw",
      "include_colab_link": true
    },
    "kernelspec": {
      "display_name": "Python 3",
      "name": "python3"
    },
    "language_info": {
      "name": "python"
    }
  },
  "nbformat": 4,
  "nbformat_minor": 0
}